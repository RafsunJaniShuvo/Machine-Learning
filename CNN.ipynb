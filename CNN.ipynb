{
  "nbformat": 4,
  "nbformat_minor": 0,
  "metadata": {
    "colab": {
      "name": "CNN.ipynb",
      "provenance": [],
      "collapsed_sections": []
    },
    "kernelspec": {
      "name": "python3",
      "display_name": "Python 3"
    },
    "language_info": {
      "name": "python"
    }
  },
  "cells": [
    {
      "cell_type": "code",
      "metadata": {
        "id": "_hZlU5jk_wZS"
      },
      "source": [
        "import numpy as np\n",
        "import pandas as pd\n",
        "import tensorflow as tf\n",
        "from keras.models import Sequential\n",
        "from time import time\n",
        "from sklearn.model_selection import train_test_split as sp\n",
        "from sklearn.feature_extraction.text import CountVectorizer as vecto\n",
        "from tensorflow import keras\n",
        "from sklearn.metrics import confusion_matrix\n",
        "import zipfile"
      ],
      "execution_count": null,
      "outputs": []
    },
    {
      "cell_type": "code",
      "metadata": {
        "id": "tWiMawu8AGM5"
      },
      "source": [
        "from keras import preprocessing\n"
      ],
      "execution_count": null,
      "outputs": []
    },
    {
      "cell_type": "markdown",
      "metadata": {
        "id": "7S3HZVy3AL-Q"
      },
      "source": [
        "#DATA PREPROCESSING"
      ]
    },
    {
      "cell_type": "code",
      "metadata": {
        "colab": {
          "base_uri": "https://localhost:8080/"
        },
        "id": "iS3cJ1_nAhwx",
        "outputId": "d150c423-371a-4dfa-98bd-ff9b75a41bd8"
      },
      "source": [
        "from google.colab import drive\n",
        "drive.mount(\"/content/drive\")"
      ],
      "execution_count": null,
      "outputs": [
        {
          "output_type": "stream",
          "name": "stdout",
          "text": [
            "Drive already mounted at /content/drive; to attempt to forcibly remount, call drive.mount(\"/content/drive\", force_remount=True).\n"
          ]
        }
      ]
    },
    {
      "cell_type": "code",
      "metadata": {
        "colab": {
          "base_uri": "https://localhost:8080/",
          "height": 536
        },
        "id": "-MNq_6oZAQHq",
        "outputId": "75b1da00-3c65-45f4-93ce-f5b2ebafe79b"
      },
      "source": [
        "z= zipfile.ZipFile(\"/content/drive/MyDrive/Colab Notebooks/YouTube-Spam-Collection-v1.zip\")\n",
        "Psy=pd.read_csv(z.open(\"Youtube01-Psy.csv\"))\n",
        "KatyPerry  =pd.read_csv(z.open(\"Youtube02-KatyPerry.csv\"))\n",
        "LMFAQ =pd.read_csv(z.open(\"Youtube03-LMFAO.csv\"))\n",
        "Eminem =pd.read_csv(z.open(\"Youtube04-Eminem.csv\"))\n",
        "Shakira =pd.read_csv(z.open(\"Youtube05-Shakira.csv\"))\n",
        "frames = [Psy,LMFAQ,Eminem,Shakira,KatyPerry]\n",
        "result = pd.concat(frames)\n",
        "result.head(10)"
      ],
      "execution_count": null,
      "outputs": [
        {
          "output_type": "execute_result",
          "data": {
            "text/html": [
              "<div>\n",
              "<style scoped>\n",
              "    .dataframe tbody tr th:only-of-type {\n",
              "        vertical-align: middle;\n",
              "    }\n",
              "\n",
              "    .dataframe tbody tr th {\n",
              "        vertical-align: top;\n",
              "    }\n",
              "\n",
              "    .dataframe thead th {\n",
              "        text-align: right;\n",
              "    }\n",
              "</style>\n",
              "<table border=\"1\" class=\"dataframe\">\n",
              "  <thead>\n",
              "    <tr style=\"text-align: right;\">\n",
              "      <th></th>\n",
              "      <th>COMMENT_ID</th>\n",
              "      <th>AUTHOR</th>\n",
              "      <th>DATE</th>\n",
              "      <th>CONTENT</th>\n",
              "      <th>CLASS</th>\n",
              "    </tr>\n",
              "  </thead>\n",
              "  <tbody>\n",
              "    <tr>\n",
              "      <th>0</th>\n",
              "      <td>LZQPQhLyRh80UYxNuaDWhIGQYNQ96IuCg-AYWqNPjpU</td>\n",
              "      <td>Julius NM</td>\n",
              "      <td>2013-11-07T06:20:48</td>\n",
              "      <td>Huh, anyway check out this you[tube] channel: ...</td>\n",
              "      <td>1</td>\n",
              "    </tr>\n",
              "    <tr>\n",
              "      <th>1</th>\n",
              "      <td>LZQPQhLyRh_C2cTtd9MvFRJedxydaVW-2sNg5Diuo4A</td>\n",
              "      <td>adam riyati</td>\n",
              "      <td>2013-11-07T12:37:15</td>\n",
              "      <td>Hey guys check out my new channel and our firs...</td>\n",
              "      <td>1</td>\n",
              "    </tr>\n",
              "    <tr>\n",
              "      <th>2</th>\n",
              "      <td>LZQPQhLyRh9MSZYnf8djyk0gEF9BHDPYrrK-qCczIY8</td>\n",
              "      <td>Evgeny Murashkin</td>\n",
              "      <td>2013-11-08T17:34:21</td>\n",
              "      <td>just for test I have to say murdev.com</td>\n",
              "      <td>1</td>\n",
              "    </tr>\n",
              "    <tr>\n",
              "      <th>3</th>\n",
              "      <td>z13jhp0bxqncu512g22wvzkasxmvvzjaz04</td>\n",
              "      <td>ElNino Melendez</td>\n",
              "      <td>2013-11-09T08:28:43</td>\n",
              "      <td>me shaking my sexy ass on my channel enjoy ^_^ ﻿</td>\n",
              "      <td>1</td>\n",
              "    </tr>\n",
              "    <tr>\n",
              "      <th>4</th>\n",
              "      <td>z13fwbwp1oujthgqj04chlngpvzmtt3r3dw</td>\n",
              "      <td>GsMega</td>\n",
              "      <td>2013-11-10T16:05:38</td>\n",
              "      <td>watch?v=vtaRGgvGtWQ   Check this out .﻿</td>\n",
              "      <td>1</td>\n",
              "    </tr>\n",
              "    <tr>\n",
              "      <th>5</th>\n",
              "      <td>LZQPQhLyRh9-wNRtlZDM90f1k0BrdVdJyN_YsaSwfxc</td>\n",
              "      <td>Jason Haddad</td>\n",
              "      <td>2013-11-26T02:55:11</td>\n",
              "      <td>Hey, check out my new website!! This site is a...</td>\n",
              "      <td>1</td>\n",
              "    </tr>\n",
              "    <tr>\n",
              "      <th>6</th>\n",
              "      <td>z13lfzdo5vmdi1cm123te5uz2mqig1brz04</td>\n",
              "      <td>ferleck ferles</td>\n",
              "      <td>2013-11-27T21:39:24</td>\n",
              "      <td>Subscribe to my channel ﻿</td>\n",
              "      <td>1</td>\n",
              "    </tr>\n",
              "    <tr>\n",
              "      <th>7</th>\n",
              "      <td>z122wfnzgt30fhubn04cdn3xfx2mxzngsl40k</td>\n",
              "      <td>Bob Kanowski</td>\n",
              "      <td>2013-11-28T12:33:27</td>\n",
              "      <td>i turned it on mute as soon is i came on i jus...</td>\n",
              "      <td>0</td>\n",
              "    </tr>\n",
              "    <tr>\n",
              "      <th>8</th>\n",
              "      <td>z13ttt1jcraqexk2o234ghbgzxymz1zzi04</td>\n",
              "      <td>Cony</td>\n",
              "      <td>2013-11-28T16:01:47</td>\n",
              "      <td>You should check my channel for Funny VIDEOS!!﻿</td>\n",
              "      <td>1</td>\n",
              "    </tr>\n",
              "    <tr>\n",
              "      <th>9</th>\n",
              "      <td>z12avveb4xqiirsix04chxviiljryduwxg0</td>\n",
              "      <td>BeBe Burkey</td>\n",
              "      <td>2013-11-28T16:30:13</td>\n",
              "      <td>and u should.d check my channel and tell me wh...</td>\n",
              "      <td>1</td>\n",
              "    </tr>\n",
              "  </tbody>\n",
              "</table>\n",
              "</div>"
            ],
            "text/plain": [
              "                                    COMMENT_ID  ... CLASS\n",
              "0  LZQPQhLyRh80UYxNuaDWhIGQYNQ96IuCg-AYWqNPjpU  ...     1\n",
              "1  LZQPQhLyRh_C2cTtd9MvFRJedxydaVW-2sNg5Diuo4A  ...     1\n",
              "2  LZQPQhLyRh9MSZYnf8djyk0gEF9BHDPYrrK-qCczIY8  ...     1\n",
              "3          z13jhp0bxqncu512g22wvzkasxmvvzjaz04  ...     1\n",
              "4          z13fwbwp1oujthgqj04chlngpvzmtt3r3dw  ...     1\n",
              "5  LZQPQhLyRh9-wNRtlZDM90f1k0BrdVdJyN_YsaSwfxc  ...     1\n",
              "6          z13lfzdo5vmdi1cm123te5uz2mqig1brz04  ...     1\n",
              "7        z122wfnzgt30fhubn04cdn3xfx2mxzngsl40k  ...     0\n",
              "8          z13ttt1jcraqexk2o234ghbgzxymz1zzi04  ...     1\n",
              "9          z12avveb4xqiirsix04chxviiljryduwxg0  ...     1\n",
              "\n",
              "[10 rows x 5 columns]"
            ]
          },
          "metadata": {},
          "execution_count": 38
        }
      ]
    },
    {
      "cell_type": "code",
      "metadata": {
        "id": "ypbexix4BWAy"
      },
      "source": [
        "# From above we learn only content and class columns are usefull \n",
        "# define our x and y\n",
        "x = result.CONTENT\n",
        "y = result.CLASS\n",
        "#x.head()\n",
        "#y.head()"
      ],
      "execution_count": null,
      "outputs": []
    },
    {
      "cell_type": "code",
      "metadata": {
        "id": "hOGrm0mTBZBf"
      },
      "source": [
        "# use sckit learn \"train_test split\" to split the data \n",
        "# into training and test data\n",
        "\n",
        "ts= 0.2 \n",
        "x_train, x_test, y_train, y_test = sp(x,y,random_state = 42, test_size = ts)"
      ],
      "execution_count": null,
      "outputs": []
    },
    {
      "cell_type": "code",
      "metadata": {
        "id": "AIjicUutBbxg"
      },
      "source": [
        "# this will \n",
        "#Tokenizer will transform the comments texts into space-separated sequences of words, and all punctuation is removed by default\n",
        "# After that These sequences are then split into lists of tokens and indexed.\n",
        "tokenizer = keras.preprocessing.text.Tokenizer()\n",
        "tokenizer.fit_on_texts(x_train)"
      ],
      "execution_count": null,
      "outputs": []
    },
    {
      "cell_type": "code",
      "metadata": {
        "colab": {
          "base_uri": "https://localhost:8080/"
        },
        "id": "OdbwIfu_Biox",
        "outputId": "ad7f6fed-9857-4554-b4a0-a70e3b97f724"
      },
      "source": [
        "#vect_x_train\n",
        "print(\"Number of training instances: %d\" % x_train.shape[0])\n",
        "print(\"Number of Classes: %d\" % len(set(y_train)))"
      ],
      "execution_count": null,
      "outputs": [
        {
          "output_type": "stream",
          "name": "stdout",
          "text": [
            "Number of training instances: 1564\n",
            "Number of Classes: 2\n"
          ]
        }
      ]
    },
    {
      "cell_type": "code",
      "metadata": {
        "colab": {
          "base_uri": "https://localhost:8080/"
        },
        "id": "HWqAOImFBmTw",
        "outputId": "68482f9f-f921-494d-84d9-7231b5d9dcbc"
      },
      "source": [
        "# get how many distinct words do we have in the dataset comments\n",
        "voc_size =  len(tokenizer.word_index) + 1\n",
        "print(\"Vocabulary size %d\" % voc_size)"
      ],
      "execution_count": null,
      "outputs": [
        {
          "output_type": "stream",
          "name": "stdout",
          "text": [
            "Vocabulary size 4257\n"
          ]
        }
      ]
    },
    {
      "cell_type": "code",
      "metadata": {
        "colab": {
          "base_uri": "https://localhost:8080/"
        },
        "id": "msH8fq7rBo3U",
        "outputId": "3f1ca2ba-ec02-459e-c4ce-e93b861aa1d7"
      },
      "source": [
        "# calculate the maximum document length\n",
        "def max_length(x_train):\n",
        "    return max([len(s.split()) for s in x_train])\n",
        "\n",
        "print(\"Max comment length in all the training sample: %d \" % max_length(x_train))"
      ],
      "execution_count": null,
      "outputs": [
        {
          "output_type": "stream",
          "name": "stdout",
          "text": [
            "Max comment length in all the training sample: 172 \n"
          ]
        }
      ]
    },
    {
      "cell_type": "code",
      "metadata": {
        "id": "I2ORnyO1BsO4"
      },
      "source": [
        "# encode a list of lines using tokenizer\n",
        "def encode_text_Token(tokenizer, lines, length):\n",
        "    # integer encode\n",
        "    encoded = tokenizer.texts_to_sequences(lines)\n",
        "    # pad encoded sequences\n",
        "    padded = pad_sequences(encoded, maxlen=length, padding='post')\n",
        "    return padded"
      ],
      "execution_count": null,
      "outputs": []
    },
    {
      "cell_type": "markdown",
      "metadata": {
        "id": "mE1_D3xSBuvJ"
      },
      "source": [
        "#BUILDING THE MODEL"
      ]
    },
    {
      "cell_type": "code",
      "metadata": {
        "colab": {
          "base_uri": "https://localhost:8080/"
        },
        "id": "nxIXOSfWBw_v",
        "outputId": "c7d0263b-de63-4a31-c523-a52786ad98c2"
      },
      "source": [
        "# First, define the based sequential model (Building the structure of the model)\n",
        "#model = keras.models.Sequential()\n",
        "length = max_length(x_train)\n",
        "#find length of the longest comment\n",
        "#the input size will be adjusted to the length of the longest comment we have seen.\n",
        "# channel 1\n",
        "cnn_input = keras.layers.Input(shape =(length,))\n",
        "#embedding layer will map the different words of the vocabulary that we have seen to a numeric vector representation.\n",
        "#In our case, vocabulary size is the number of distinct words in our comments, and 100 means that we are going to represent each word\n",
        "# word with a vector of size 100.\n",
        "embedding = (keras.layers.Embedding(voc_size, 100)(cnn_input))\n",
        "# The kernel size in the convolutional layer defines the number of words to consider as\n",
        "#the convolution is passed across the input text, filter sees 4 words at each time (filter's window size).\n",
        "# Relu returns 1 if the dot product is more than 0, otherwise it gives 0. (filter representation of the dot product)\n",
        "conv_layer = keras.layers.Conv1D(filters=32, kernel_size=4, activation='relu')(embedding)\n",
        "# we are reducing the effect of some of the neurons on the forward propagation to make the model more general\n",
        "#here we regularized our model by droping out 0.2 (20%) of the neurons.\n",
        "drop_layer = keras.layers.Dropout(0.2)(conv_layer)\n",
        "# take the maximum of each 2 points. which means that the size of our convolutional layer will shrink by window of 2\n",
        "pool_layer = (keras.layers.MaxPooling1D(pool_size=2))(drop_layer)\n",
        "# flatten the the pool layer to pass it to the dense layer. In other words, if we have 2*2 we just make it 1*4 (flat vector)\n",
        "flat_layer = (keras.layers.Flatten())(pool_layer)\n",
        "# reduces its impot to 10 output, normally we use it to merge different convolutional layers\n",
        "dense_layer = (keras.layers.Dense(10, activation='relu'))(flat_layer)\n",
        "# reduces the input to 1 output.\n",
        "cnn_output = (keras.layers.Dense(1, activation='sigmoid'))(dense_layer)\n",
        "#specify the model parameters, input and output\n",
        "our_model=keras.models.Model(inputs = cnn_input, outputs = cnn_output)\n",
        "#compiling the model. which means that now we have a ready model to process our data.\n",
        "our_model.compile(loss='binary_crossentropy', optimizer='adam',metrics=['accuracy'])\n",
        "print(our_model.summary())\n"
      ],
      "execution_count": null,
      "outputs": [
        {
          "output_type": "stream",
          "name": "stdout",
          "text": [
            "Model: \"model_1\"\n",
            "_________________________________________________________________\n",
            " Layer (type)                Output Shape              Param #   \n",
            "=================================================================\n",
            " input_2 (InputLayer)        [(None, 172)]             0         \n",
            "                                                                 \n",
            " embedding_1 (Embedding)     (None, 172, 100)          425700    \n",
            "                                                                 \n",
            " conv1d_1 (Conv1D)           (None, 169, 32)           12832     \n",
            "                                                                 \n",
            " dropout_1 (Dropout)         (None, 169, 32)           0         \n",
            "                                                                 \n",
            " max_pooling1d_1 (MaxPooling  (None, 84, 32)           0         \n",
            " 1D)                                                             \n",
            "                                                                 \n",
            " flatten_1 (Flatten)         (None, 2688)              0         \n",
            "                                                                 \n",
            " dense_2 (Dense)             (None, 10)                26890     \n",
            "                                                                 \n",
            " dense_3 (Dense)             (None, 1)                 11        \n",
            "                                                                 \n",
            "=================================================================\n",
            "Total params: 465,433\n",
            "Trainable params: 465,433\n",
            "Non-trainable params: 0\n",
            "_________________________________________________________________\n",
            "None\n"
          ]
        }
      ]
    },
    {
      "cell_type": "markdown",
      "metadata": {
        "id": "IYEBx42yB7Qn"
      },
      "source": [
        "#Train the Model"
      ]
    },
    {
      "cell_type": "code",
      "metadata": {
        "colab": {
          "base_uri": "https://localhost:8080/"
        },
        "id": "ucxJNbr8B-qf",
        "outputId": "df3f68e8-a0ea-4991-bd0a-ebaa3a20af1e"
      },
      "source": [
        "from numpy import *\n",
        "from keras.preprocessing.sequence import pad_sequences# Train our model on the training dataset\n",
        "EncodedTrainX=encode_text_Token(tokenizer,x_train,length) #epochs represents how many times we are going to pass through\n",
        "#the Whole dataset\n",
        "# batch_size is just the number of instances that our model will handel each time (a segment of the training dataset)\n",
        "our_model.fit(EncodedTrainX, array(y_train), epochs=15, batch_size=14)"
      ],
      "execution_count": null,
      "outputs": [
        {
          "output_type": "stream",
          "name": "stdout",
          "text": [
            "Epoch 1/15\n",
            "112/112 [==============================] - 2s 16ms/step - loss: 0.5476 - accuracy: 0.7008\n",
            "Epoch 2/15\n",
            "112/112 [==============================] - 2s 16ms/step - loss: 0.3460 - accuracy: 0.9642\n",
            "Epoch 3/15\n",
            "112/112 [==============================] - 2s 16ms/step - loss: 0.2949 - accuracy: 0.9859\n",
            "Epoch 4/15\n",
            "112/112 [==============================] - 2s 16ms/step - loss: 0.2617 - accuracy: 0.9942\n",
            "Epoch 5/15\n",
            "112/112 [==============================] - 2s 16ms/step - loss: 0.2386 - accuracy: 0.9968\n",
            "Epoch 6/15\n",
            "112/112 [==============================] - 2s 16ms/step - loss: 0.2194 - accuracy: 0.9974\n",
            "Epoch 7/15\n",
            "112/112 [==============================] - 2s 16ms/step - loss: 0.2030 - accuracy: 0.9974\n",
            "Epoch 8/15\n",
            "112/112 [==============================] - 2s 16ms/step - loss: 0.1879 - accuracy: 0.9981\n",
            "Epoch 9/15\n",
            "112/112 [==============================] - 2s 16ms/step - loss: 0.1745 - accuracy: 0.9981\n",
            "Epoch 10/15\n",
            "112/112 [==============================] - 2s 16ms/step - loss: 0.1624 - accuracy: 0.9981\n",
            "Epoch 11/15\n",
            "112/112 [==============================] - 2s 16ms/step - loss: 0.1513 - accuracy: 0.9981\n",
            "Epoch 12/15\n",
            "112/112 [==============================] - 2s 16ms/step - loss: 0.1412 - accuracy: 0.9981\n",
            "Epoch 13/15\n",
            "112/112 [==============================] - 2s 16ms/step - loss: 0.1321 - accuracy: 0.9981\n",
            "Epoch 14/15\n",
            "112/112 [==============================] - 2s 16ms/step - loss: 0.1239 - accuracy: 0.9981\n",
            "Epoch 15/15\n",
            "112/112 [==============================] - 2s 16ms/step - loss: 0.1158 - accuracy: 0.9981\n"
          ]
        },
        {
          "output_type": "execute_result",
          "data": {
            "text/plain": [
              "<keras.callbacks.History at 0x7f06c3608950>"
            ]
          },
          "metadata": {},
          "execution_count": 47
        }
      ]
    },
    {
      "cell_type": "markdown",
      "metadata": {
        "id": "URiUIo8LCI8_"
      },
      "source": [
        "#Evaluating the model"
      ]
    },
    {
      "cell_type": "code",
      "metadata": {
        "colab": {
          "base_uri": "https://localhost:8080/"
        },
        "id": "60gAU12uCLPf",
        "outputId": "1e49fe81-f7f6-4522-9273-159be129a24d"
      },
      "source": [
        "EncodedTestX = encode_text_Token(tokenizer, x_test, length)\n",
        "\n",
        "# evaluating our model on the training dataset\n",
        "loss, acc = our_model.evaluate(EncodedTrainX, array(y_train), verbose=0)\n",
        "print('Train Accuracy: %f' % (acc*100))\n",
        " \n",
        "# evaluating our model on the test dataset\n",
        "loss, acc = our_model.evaluate(EncodedTestX,array(y_test), verbose=0)\n",
        "print('Test Accuracy: %f' % (acc*100))"
      ],
      "execution_count": null,
      "outputs": [
        {
          "output_type": "stream",
          "name": "stdout",
          "text": [
            "Train Accuracy: 99.808186\n",
            "Test Accuracy: 95.153064\n"
          ]
        }
      ]
    },
    {
      "cell_type": "markdown",
      "metadata": {
        "id": "vsN3JdDqCRcv"
      },
      "source": [
        "#Confusion Matrix"
      ]
    },
    {
      "cell_type": "code",
      "metadata": {
        "id": "SX6sNcVkCh0i"
      },
      "source": [
        "#This Function converts the Probability of our model into labels\n",
        "def ProToClass(ProList):\n",
        "    ClassList=[]\n",
        "    for x in ProList:\n",
        "        if (x >= 0.5):\n",
        "            ClassList.append(1)                \n",
        "        else:\n",
        "            ClassList.append(0)\n",
        "    return ClassList"
      ],
      "execution_count": null,
      "outputs": []
    },
    {
      "cell_type": "code",
      "metadata": {
        "colab": {
          "base_uri": "https://localhost:8080/"
        },
        "id": "5QKbzF06CK_v",
        "outputId": "65e08d55-91bb-43aa-89ff-6fe54fc744f5"
      },
      "source": [
        "y_test_pre= our_model.predict(EncodedTestX)\n",
        "# print(y_test)\n",
        "# print(y_test_pre)\n",
        "# y_test_pre=keras.utils.to_categorical(y_test_pre, num_classes=2)\n",
        "y_test_pre = ProToClass(y_test_pre)\n",
        "print(\"******************\")\n",
        "print(\"Confusion Matrix\")\n",
        "cm1 = confusion_matrix(y_test,y_test_pre,labels=[1, 0])\n",
        "print(cm1)\n"
      ],
      "execution_count": null,
      "outputs": [
        {
          "output_type": "stream",
          "name": "stdout",
          "text": [
            "******************\n",
            "Confusion Matrix\n",
            "[[179  10]\n",
            " [  9 194]]\n"
          ]
        }
      ]
    },
    {
      "cell_type": "code",
      "metadata": {
        "id": "4hCQnXkqCmVX"
      },
      "source": [
        "reversed_word_map = dict(map(reversed, tokenizer.word_index.items()))\n",
        "\n",
        "# Convert tokenized words to actual words\n",
        "def sequence_to_text(indices):\n",
        "    w = [reversed_word_map.get(x) for x in indices]\n",
        "    return(w)\n",
        "#Reference : https://stackoverflow.com/questions/41971587/how-to-convert-predicted-sequence-back-to-text-in-keras"
      ],
      "execution_count": null,
      "outputs": []
    },
    {
      "cell_type": "code",
      "metadata": {
        "id": "JT2SwcjUCo5l"
      },
      "source": [
        "def Visulize(x,label):\n",
        "    ylist=[]\n",
        "    for y in label :\n",
        "        ylist.append(y)\n",
        "    wordslist=[]\n",
        "    labelList=[]\n",
        "    for i in range(len(x)):\n",
        "        for w in x[i]:\n",
        "            if w not in wordslist :\n",
        "                wordslist.append(w)\n",
        "                labelList.append(ylist[i])\n",
        "    return wordslist, labelList"
      ],
      "execution_count": null,
      "outputs": []
    },
    {
      "cell_type": "markdown",
      "metadata": {
        "id": "26V0efheCr1F"
      },
      "source": [
        "#Visualize our test set"
      ]
    },
    {
      "cell_type": "code",
      "metadata": {
        "id": "WAb5QTATC-So"
      },
      "source": [
        "\n",
        "import matplotlib.pyplot as plt"
      ],
      "execution_count": null,
      "outputs": []
    },
    {
      "cell_type": "code",
      "metadata": {
        "colab": {
          "base_uri": "https://localhost:8080/",
          "height": 902
        },
        "id": "zwk2qE9ZCrYe",
        "outputId": "18c436ed-89eb-450b-fc54-b5820c675843"
      },
      "source": [
        "print(\"**********************************\")\n",
        "results = Visulize(EncodedTestX,y_test)\n",
        "x= results[0]\n",
        "y=results[1]\n",
        "plt.scatter(x,y)\n",
        "plt.show()\n",
        "print(\"************************\")\n",
        "print(\"Unique spam Words\")\n",
        "\n",
        "spam=[]\n",
        "data=[]\n",
        "for i in range(len(x)) :\n",
        "    if( y[i]==1 ):\n",
        "        spam.append(x[i])\n",
        "        data.append(i)\n",
        "for w in spam:\n",
        "    if w in results[0] and results[1] == 0 :\n",
        "        i = spam.index(w)\n",
        "        spam.remove(w)\n",
        "        data[i].remove()\n",
        "plt.scatter(spam,data)\n",
        "plt.show()\n",
        "spam = list(set(spam))\n",
        "spam = sequence_to_text(spam)\n",
        "print(spam)\n",
        "\n",
        "print(\"************************\")\n",
        "print(\"Unique ham Words\")\n",
        "\n",
        "Ham=[]\n",
        "data=[]\n",
        "for i in range(len(x)) :\n",
        "    if( y[i]==0):\n",
        "        Ham.append(x[i])\n",
        "        data.append(i)\n",
        "for w in Ham:\n",
        "    if w in results[0] and results[1] == 1 :\n",
        "        i = Ham.index(w)\n",
        "        Ham.remove(w)\n",
        "        data[i].remove()\n",
        "plt.scatter(Ham,data)\n",
        "plt.show()\n",
        "Ham = list(set(Ham))\n",
        "Ham = sequence_to_text(Ham)\n",
        "print(Ham)"
      ],
      "execution_count": null,
      "outputs": [
        {
          "output_type": "stream",
          "name": "stdout",
          "text": [
            "**********************************\n"
          ]
        },
        {
          "output_type": "display_data",
          "data": {
            "image/png": "[encoded data removed]",
            "text/plain": [
              "<Figure size 432x288 with 1 Axes>"
            ]
          },
          "metadata": {
            "needs_background": "light"
          }
        },
        {
          "output_type": "stream",
          "name": "stdout",
          "text": [
            "************************\n",
            "Unique spam Words\n"
          ]
        },
        {
          "output_type": "display_data",
          "data": {
            "image/png": "[encoded data removed]",
            "text/plain": [
              "<Figure size 432x288 with 1 Axes>"
            ]
          },
          "metadata": {
            "needs_background": "light"
          }
        },
        {
          "output_type": "stream",
          "name": "stdout",
          "text": [
            "['the', 'and', 'to', 'check', 'out', 'a', 'my', 'you', 'on', 'fave', 'is', 'of', 'video', 'com', 'it', 'youtube', 'for', 'me', '39', 'please', 'like', 'in', 'subscribe', 'if', 'so', 'channel', 'love', 'just', 'http', 'sucking', 'music', 'can', 'amp', 'up', 'new', 'have', 'your', 'www', 'but', 'be', 'guys', 'will', 't', 'views', 'm', 'am', 'https', 'knew', 'all', 'at', 'money', 'get', 'from', 'make', 'hey', 'quot', 'arrowgance', 'with', 's', 'do', 'katy', 'who', '2', 'watch', 'u', 'videos', 'know', 'comment', 'we', 'thank', 'how', '3', 'facebook', 'supermariologan', 'as', 'time', 'or', 'our', 'thanks', 'one', 'im', 'really', 'see', 'nonsense', 'much', 'visit', 'us', 'help', 'by', 'here', 'no', 'her', 'he', 'called', '000', 'could', 'over', 'go', 'because', 'an', 'songs', 'has', 'give', 'should', 'perry', 'thumbs', 'still', 'free', 'want', 'some', 'about', 'today', 'does', 'share', 'its', 'now', 'piss', 'toilet', 'what', 'href', 'don', 'quiet', 'v', 'way', 'google', 'playlist', 'd', 'take', 'performance', 'lil', 'everyone', 'most', 'website', 'home', 'rapper', 'very', 'online', 'martin', 'follow', 'making', 'zonepa', 'moneygq', '17yr', 'back', 'resort', 'start', 'working', 'first', 'appreciate', 'comments', 'watching', 'rihanna', 'tracks', 'subscribers', 'audio', 'gt', 'hi', 'day', 'advance', 'dont', 'look', 'per', 'month', 'click', 'covers', 'listen', 'also', 'great', 'got', 'made', 'read', 'extraordinary', 'need', 'dream', 'real', '0', 'getting', 'plus', 'twitter', 'hello', 'giving', 'life', 'those', 'remix', 'support', 'class', '08', 'started', 'ref', 'right', 'hate', 'anyone', 'celebrity', 'sorry', 'vote', 'e', 'these', \"don't\", 'being', 'too', 'funny', 'everyday', 'paid', 'shit', 'wanna', 'fans', 'off', 'plz', 'heard', 'his', 'guy', 'cover', 'never', 'part', 'doing', 'lot', 'co', 'boyfriend', 'name', 'type', 'hit', 'play', 'sub', '15', 'few', 'mother', 'leave', '100', 'work', 'boy', 'spam', 'than', 'better', 'been', 'mean', 'vet', 'lol', 'ones', 'voice', 'live', 'successful', 'hope', 'where', 'tell', 'link', '2013', 'hard', 'ebay', 'true', 'before', 'won', 'probably', 'rel', 'nofollow', 'ot', 'hashtag', 'nothing', 'gonna', 'big', 'remember', 'enjoy', 'seconds', '♥', 'young', 'put', 'girls', 'likes', 'football', 'soon', 'almost', 'moment', 'n', 'omg', 'ly', 'r', 'advertise', 'simple', 'regret', 'trying', 'maybe', 'l', 'id', 'download', 'popular', 'coming', 'win', 'keep', 'little', 'binbox', 'io', 're', 'original', 'top', 'store', 'attention', 'next', 'channel\\ufeff', 'musician', 'crazy', 'scale', 'site', 'miss', 'subscribe\\ufeff', 'don’t', 'post', 'improve', 'well', 'future', 'mind', 'fan', 'man', 'sexy', '4netjobs', 'social', 'africa', 'lots', 'harbor', 'android', 'miley', 'artist', 'apps', 'span', 'friends', 'women', 'buy', 'soundcloud', 'whole', 'earn', 'around', 'already', 'thumb', 'skills', 'subs', 'things', '25', 'hour', '4000', 'else', 'advertisements', 'track', 'find', 'face', 'lake', '2014', 'rappers', 'actually', 'gofundme', 'wanted', 'j', 'their', 'again', 'happy', 'others', 'vimeo', 'days', 'let', '17', 'll', \"you're\", 'own', 'boys', 'write', 'good\\ufeff', 'easily', 'fast', 'adf', 'itunes', 'doesnt', 'dreaming', 'subscription', 'piano', 'step', 'pass', 'kind', 'last', 'forward', 'uk', 'peace', 'always', 'become', 'least', 'yourself', 'latest', 'survival', 'details', 'hair', 'appreciated', 'minecraft', 'bless', 'photo', 've', 'him', 'stuff', 'fighting', 'sr', 'utf8', 'wattpad', 'done', 'sad', 'millions', \"i'll\", 'record', 'reason', 'yo', 'instagram', 'friend', 'wear', 'range', 'media', 'sites', 'experience', '5000', 'monthly', 'cute', 'shhort', 'victorious', 'myself', 'web', 'cyrus', 'brothers', 'url', 'dante', 'riled', 'school', 'baby', 'amazon', 'projects', '20', '200', 'must', 'goals', 'press', 'adam', 'small', 'second', 'wont', 'constructive', 'book', 'something', '90', 'youtuber', 'freedom', 'x', 'line', 'ill', 'nobody', 'dollars', '16', 'cypher', '200k', 'since', 'decided', 'ur', 'feedback', 'band', 'decent', 'change', 'penis', 'agree', 'ft', 'said', '500', 'version', 'mess', 'upto', '35', 'comfort', 'currently', 'hiring', 'wide', 'jobs', 'prior', 'begin', 'immediately', 'income…only', 'try', 'certain', 'weird', 'prove', 'php', 'might', 'i’m', 'named', 'famous', 'se', 'story', 'please\\ufeff', 'pay', 'used', '14', 'videos\\ufeff', 'left', 'button', 'card', 'everything', 'fame', 'criticism', 'vid', 'yet', 'takes', 'mix', 'iphone', 'itm', 'sspagename', 'strk', 'meselx', 'trksid', 'p3984', 'm1555', 'l2649', '365', 'lyrical', 'king', 'isnt', \"i'm\", 'account', 'hackfbaccountlive', 'dragons', 'album', 'net', '50', 'profile', 'water', 'christmas', 'passed', 'upload', 'african', 'master', 'it’s', 'youtubers', 'country', 'lie\\ufeff', 'show', '5tu9gn1l310', 'english', 'freemyapps', 'invest', 'exposure', 'gay', 'equipment', \"we're\", 'back\\ufeff', 'response', 'donate', 'taking', 'wasting', 'sound', 'son', 'seen', 'following', 'rapping', 'user', 'town', 'instrumental', 'songwriter', 'columbus', 'against', 'talent', 'favour', 'drop', 'ive', 'told', 'potential', 'bottom', 'theater', 'imagine', 'insane', 'indiegogo', 'welcome', 'living', 'minute', 'makeup', '6', 'die', 'skip', 'ladies', 'deazy99', 'set', 'dedicated', 'bars', 'waste', '\\xa0\\ufeff', 'isn', 'human', 'alot', 'hip', 'hop', 'loss', 'fashion', 'smile', 'deserve', 'model', 'talk', 'dad', 'cook', 'joking', 'kld3y', 'chanel', 'c', 'shame', 'tryna', '11', 'limit', 'surveys', 'realized', 'perform', 'goal', 'population', 'bored', 'proflinkwrapper', 'proflinkprefix', 'proflink', '104999962146104962510', 'oid', 'fr', 'spamming', 'codes', 'alone', 'thepiratebay', 'torrent', 'leads', '23', 'notorious', 'niko', 'belgium', 'speaks', 'alcoholic', '46', 'care', 'tax', 'reviews', 'singers', 'core', 'possible', 'open', 'hood', 'hilarious', 'talented', 'clean', 'mississippi', 'highly', 'whitney', 'heart', 'counts', 'secret', 'games', 'turned', 'photos', '87', 'tomorrow', 'round', 'singlewave', 'memories', 'spourmo', 'learn', 'xx\\ufeff', 'brand', 'fbid', 'gives', 'subscribed', 'target', 'viral', 'secrets', 'long', 'feed', 'worldwide', 'okay', 'shared', 'simply', '13', 'active', 'passion', 'ambition', 'prod', 'thanks\\ufeff', 'recording', 'build', 'base', 'surgery', 'evil', 'night', 'dancing', 'income', 'bonus', 'bookmakers', 'vanstone', 'protect', 'ways', 'tips', 'verse', 'journey', 'nails', 'raw', 'straight', 'acoustic', 'guess', 'hack', 'uploading', 'feature', 'wife', 'drugs', 'lights', 'finding', 'innocent', 'ociramma', 'french', 'parody', '25000', 'splashes', 'tech', 'stil', 'guys\\ufeff', 'ex', 'i’ve', 'risk', 'woman', 'deals', 'technique', 'betfair', 'jim', 'wagers', 'quid', 'student', 'meaning', 'lover', 'known', 'edit', 'expensive', 'brings', 'fly']\n",
            "************************\n",
            "Unique ham Words\n"
          ]
        },
        {
          "output_type": "display_data",
          "data": {
            "image/png": "[encoded data removed]",
            "text/plain": [
              "<Figure size 432x288 with 1 Axes>"
            ]
          },
          "metadata": {
            "needs_background": "light"
          }
        },
        {
          "output_type": "stream",
          "name": "stdout",
          "text": [
            "[None, 'i', '\\ufeff', 'this', 'mom', 'works', 'da', 'months', 'checked', 'love\\ufeff', 'br', 'song', 'huge', 'drunk', 'comprehend', 'elephant', 'that', 'cup', 'happening', 'listening', 'cant', 'bit', 'jackson', 'dumb', 'are', 'party\\ufeff', 'ahhh', 'people', 'she', '1', 'finish', 'views\\ufeff', 'wow\\ufeff', 'saw', 'best', 'not', 'absolutely', 'complete', 'saying', 'box', 'checking', 'random', 'dick', 'copied', 'beauty', 'would', 'more', '♥\\ufeff', \"i've\", 'away', 'was', 'bigger', 'bout', 'good', 'only', 'world', 'partying', 'old', 'sounds', 'pretty', 'eminem', '600', 'island', 'shuffle', 'lt', 'charlie', 'billion', 'rocks', 'says', 'sure', 'sucks', 'there', \"isn't\", 'cry', 'dislike', 'when', 'why', 'train', 'chance', 'now\\ufeff', 'shakira', 'soundsofsunday', 'any', 'sty', 'year', 'wasn', 'awesome', 'lets', 'instead', 'number', 'beat', 'they', 'turn', 'pray', 'smh\\ufeff', 'ever', 'nice', 'champion', 'animals', 'laugh', 'head', 'words', 'dude', 'song\\ufeff', 'singing', 'wish', 'even', 'cevxzvsjlk8', 'then', 'during', 'far', '9', 'shakira\\ufeff', 'come', 'hear', 'years', 'december', 'meh', 'waka', 'waka\\ufeff', 'think', 'nearly', 'shuffle\\ufeff', 'beautiful', '5', 'may', 'dance', 'knows', 'rap', 'million', '2015', 'wow', '19', 'cool', 'girl', '3\\ufeff', 'many', 'cevxzvsjlk8\\ufeff', 'every', 'd\\ufeff', 'going', 'kq6zr6kcpj8', 'power', 'memories\\ufeff', 'epic', '4', 'message', 'lauren', 'stop', 'party', 'video\\ufeff', 'kill', 'hahah', 'hating', 'half', 'anything', 'michael', 'style', 'psy', 'extra', 'between', 'which', '7', 'dear', 'loved', 'hot', 'needed', 'singer', 'such', 'gangnam', 'rock', 'roar', \"she's\", 'view', 'truly', 'doesn', 'survive', 'plane', 'crash', \"can't\", 'eyes', 'bad\\ufeff', 'god', 'lie', 'fucking', 'thing', 'cool\\ufeff', 'amazing', 'reading', 'baby\\ufeff', 'fuck', 'did', 'fantastic', '57', 'it\\ufeff', '8', 'tiger', 'fifa', 'believe', 'megan', 'them', 'movie', 'count', 'makes', 'b', 'ever\\ufeff', 'shot', 'someone', 'ask', 'bass', 'lyrics', 'lmfao', 'broken', 'choice', 'together', 'gets', 'xd', 'news', 'sooooo', \"that's\", 'were', 'whose', \"let's\", 'abusive', 'relate', 'reach', 'understand', 'old\\ufeff', 'acting', 'came', 'wants', 'earth', 'ago', 'replay', 'seriously', 'while', 'person', 'same', 'perfect', 'had', 'high', 'end', 'quite', 'kitty', 'robot', 'fox', 'bennett', '700', 'self', 'without', 'katty', 'beutiful', 'into', 'official', 'youtu', 'sing', 'sec', 'clip', 'viewed', 'reminds', 'bitch', '2015\\ufeff', 'comes', '800', 'bad', 'loving', 'favorite', 'eminem\\ufeff', 'other', 'teenage', 'feel', 'ya', 'tumor', 'job', 'found', 'forget', 'lost', 'super', 'female', 'xd\\ufeff', 'trop', 'holy', 'dislikes', 'anthem', 'pop', 'to\\ufeff', \"it's\", 'soccer', 'much\\ufeff']\n"
          ]
        }
      ]
    }
  ]
}